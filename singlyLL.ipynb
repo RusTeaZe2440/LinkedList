{
 "cells": [
  {
   "cell_type": "code",
   "execution_count": 2,
   "metadata": {},
   "outputs": [],
   "source": [
    "class LL:\n",
    "    def __init__(self,val) -> None:\n",
    "        self.val = val\n",
    "        self.next = None\n",
    "    \n",
    "    def __str__(self) -> str:\n",
    "        return str(self.val)\n",
    "    \n",
    "Head = LL(20)\n",
    "b = LL(21)\n",
    "c = LL(22)\n",
    "d = LL(23)\n",
    "e = LL(24)\n"
   ]
  },
  {
   "cell_type": "code",
   "execution_count": 3,
   "metadata": {},
   "outputs": [
    {
     "name": "stdout",
     "output_type": "stream",
     "text": [
      "20->21->22->23->24\n"
     ]
    }
   ],
   "source": [
    "Head.next = b\n",
    "b.next = c\n",
    "c.next = d\n",
    "d.next = e\n",
    "\n",
    "def show(head):\n",
    "    elements = []\n",
    "    curr = head\n",
    "    while curr:\n",
    "        elements.append(str(curr.val))\n",
    "        curr = curr.next\n",
    "\n",
    "    print('->'.join(elements))\n",
    "\n",
    "show(Head)"
   ]
  },
  {
   "cell_type": "code",
   "execution_count": 20,
   "metadata": {},
   "outputs": [],
   "source": [
    "class LinkedList:\n",
    "    def __init__(self,val) -> None:\n",
    "        self.val = val\n",
    "        self.next = None\n",
    "        self.prev = None\n",
    "        self.n  = 0\n",
    "    \n",
    "    def __str__(self):\n",
    "        return str(self.val)\n"
   ]
  },
  {
   "cell_type": "code",
   "execution_count": 21,
   "metadata": {},
   "outputs": [],
   "source": [
    "L = LinkedList(4)"
   ]
  },
  {
   "cell_type": "code",
   "execution_count": 22,
   "metadata": {},
   "outputs": [
    {
     "data": {
      "text/plain": [
       "1"
      ]
     },
     "execution_count": 22,
     "metadata": {},
     "output_type": "execute_result"
    }
   ],
   "source": [
    "len(L)"
   ]
  },
  {
   "cell_type": "code",
   "execution_count": 6,
   "metadata": {},
   "outputs": [],
   "source": [
    "L.insert_head(2)\n",
    "L.insert_head(3)\n",
    "L.insert_head(5)"
   ]
  },
  {
   "cell_type": "code",
   "execution_count": 7,
   "metadata": {},
   "outputs": [
    {
     "name": "stdout",
     "output_type": "stream",
     "text": [
      "4->5\n"
     ]
    }
   ],
   "source": [
    "def display(L):\n",
    "    elm = []\n",
    "    curr = L\n",
    "    while curr:\n",
    "        elm.append(str(curr))\n",
    "        curr = curr.next\n",
    "    print('->'.join(elm))\n",
    "\n",
    "display(L)\n",
    "    "
   ]
  },
  {
   "cell_type": "code",
   "execution_count": 8,
   "metadata": {},
   "outputs": [],
   "source": [
    "L.insert_head(6)"
   ]
  },
  {
   "cell_type": "code",
   "execution_count": 9,
   "metadata": {},
   "outputs": [
    {
     "name": "stdout",
     "output_type": "stream",
     "text": [
      "4->6\n"
     ]
    }
   ],
   "source": [
    "display(L)"
   ]
  }
 ],
 "metadata": {
  "kernelspec": {
   "display_name": "base",
   "language": "python",
   "name": "python3"
  },
  "language_info": {
   "codemirror_mode": {
    "name": "ipython",
    "version": 3
   },
   "file_extension": ".py",
   "mimetype": "text/x-python",
   "name": "python",
   "nbconvert_exporter": "python",
   "pygments_lexer": "ipython3",
   "version": "3.9.13"
  }
 },
 "nbformat": 4,
 "nbformat_minor": 2
}
