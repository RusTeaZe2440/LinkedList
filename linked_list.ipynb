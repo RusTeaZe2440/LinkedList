{
 "cells": [
  {
   "cell_type": "code",
   "execution_count": 1,
   "metadata": {},
   "outputs": [],
   "source": [
    "class DoublyLL:\n",
    "    def __init__(self,val,next=None,prev=None) -> None:\n",
    "        self.val = val\n",
    "        self.next = next\n",
    "        self.prev = prev\n",
    "\n",
    "    def __str__(self) -> str:\n",
    "        return str(self.val)\n",
    "        "
   ]
  },
  {
   "cell_type": "code",
   "execution_count": 2,
   "metadata": {},
   "outputs": [],
   "source": [
    "o = DoublyLL(10)\n",
    "p = DoublyLL(11)\n",
    "q = DoublyLL(12)\n",
    "r = DoublyLL(13)\n",
    "s = DoublyLL(14)\n",
    "\n",
    "o.next = p\n",
    "p.next = q\n",
    "q.next = r\n",
    "r.next = s"
   ]
  },
  {
   "cell_type": "code",
   "execution_count": 3,
   "metadata": {},
   "outputs": [
    {
     "name": "stdout",
     "output_type": "stream",
     "text": [
      "10->11->12->13->14\n"
     ]
    }
   ],
   "source": [
    "def traverse(head):\n",
    "    curr = head\n",
    "    elements = []\n",
    "    while curr:\n",
    "        elements.append(str(curr))\n",
    "        curr = curr.next\n",
    "\n",
    "    print('->'.join(elements))\n",
    "traverse(o)"
   ]
  },
  {
   "cell_type": "code",
   "execution_count": 4,
   "metadata": {},
   "outputs": [],
   "source": [
    "def insert_after(after,value):\n",
    "        new_node = DoublyLL(value)\n",
    "        curr = o\n",
    "        while curr:\n",
    "            if curr.val == after:\n",
    "                break\n",
    "            curr = curr.next\n",
    "        \n",
    "        if curr:\n",
    "            new_node.next = curr.next\n",
    "            curr.next = new_node\n",
    "            \n",
    "        else:\n",
    "            return 'item not found'"
   ]
  },
  {
   "cell_type": "code",
   "execution_count": 5,
   "metadata": {},
   "outputs": [],
   "source": [
    "def insert_tail(head,value):\n",
    "    new_node = DoublyLL(value)\n",
    "    curr = head\n",
    "    while curr.next:\n",
    "        curr = curr.next\n",
    "\n",
    "    curr.next = new_node\n"
   ]
  },
  {
   "cell_type": "code",
   "execution_count": 6,
   "metadata": {},
   "outputs": [],
   "source": [
    "def pop(head):\n",
    "    curr = head\n",
    "    while curr.next.next:\n",
    "        curr = curr.next\n",
    "    \n",
    "    curr.next = None"
   ]
  },
  {
   "cell_type": "code",
   "execution_count": 7,
   "metadata": {},
   "outputs": [
    {
     "name": "stdout",
     "output_type": "stream",
     "text": [
      "10->11->12->13->14\n"
     ]
    }
   ],
   "source": [
    "traverse(o)"
   ]
  },
  {
   "cell_type": "code",
   "execution_count": 8,
   "metadata": {},
   "outputs": [],
   "source": [
    "def remove(head,value):\n",
    "    curr = head\n",
    "    while curr.next:\n",
    "        if curr.next.val == value:\n",
    "            break\n",
    "        curr = curr.next\n",
    "    \n",
    "    if curr.next == None:\n",
    "        return 'item not found'\n",
    "    else:\n",
    "        curr.next = curr.next.next"
   ]
  },
  {
   "cell_type": "code",
   "execution_count": 9,
   "metadata": {},
   "outputs": [
    {
     "name": "stdout",
     "output_type": "stream",
     "text": [
      "10->11->12->13->14\n"
     ]
    }
   ],
   "source": [
    "traverse(o)"
   ]
  },
  {
   "cell_type": "code",
   "execution_count": 10,
   "metadata": {},
   "outputs": [
    {
     "data": {
      "text/plain": [
       "'item not found'"
      ]
     },
     "execution_count": 10,
     "metadata": {},
     "output_type": "execute_result"
    }
   ],
   "source": [
    "remove(o,10)"
   ]
  },
  {
   "cell_type": "code",
   "execution_count": 11,
   "metadata": {},
   "outputs": [
    {
     "name": "stdout",
     "output_type": "stream",
     "text": [
      "10->11->12->13->14\n"
     ]
    }
   ],
   "source": [
    "traverse(o)"
   ]
  },
  {
   "cell_type": "code",
   "execution_count": 12,
   "metadata": {},
   "outputs": [],
   "source": [
    "def search(head,value):\n",
    "    curr = head\n",
    "    pos = 0\n",
    "    while curr:\n",
    "        if curr.val == value:\n",
    "            return pos\n",
    "        curr = curr.next\n",
    "        pos += 1\n",
    "    \n",
    "    return 'item not found'"
   ]
  },
  {
   "cell_type": "code",
   "execution_count": 13,
   "metadata": {},
   "outputs": [
    {
     "name": "stdout",
     "output_type": "stream",
     "text": [
      "10->11->12->13->14\n"
     ]
    }
   ],
   "source": [
    "traverse(o)"
   ]
  },
  {
   "cell_type": "code",
   "execution_count": 14,
   "metadata": {},
   "outputs": [
    {
     "data": {
      "text/plain": [
       "4"
      ]
     },
     "execution_count": 14,
     "metadata": {},
     "output_type": "execute_result"
    }
   ],
   "source": [
    "search(o,14)"
   ]
  },
  {
   "cell_type": "code",
   "execution_count": 15,
   "metadata": {},
   "outputs": [],
   "source": [
    "def indexing(head,index):\n",
    "    curr = head\n",
    "    pos = 0\n",
    "    while curr:\n",
    "        if pos == index:\n",
    "            return curr.val\n",
    "        curr = curr.next\n",
    "        pos += 1\n",
    "    return 'out of index'"
   ]
  },
  {
   "cell_type": "code",
   "execution_count": 16,
   "metadata": {},
   "outputs": [
    {
     "name": "stdout",
     "output_type": "stream",
     "text": [
      "10->11->12->13->14\n"
     ]
    }
   ],
   "source": [
    "traverse(o)"
   ]
  },
  {
   "cell_type": "code",
   "execution_count": 17,
   "metadata": {},
   "outputs": [
    {
     "data": {
      "text/plain": [
       "10"
      ]
     },
     "execution_count": 17,
     "metadata": {},
     "output_type": "execute_result"
    }
   ],
   "source": [
    "indexing(o,0)"
   ]
  },
  {
   "cell_type": "code",
   "execution_count": 20,
   "metadata": {},
   "outputs": [
    {
     "name": "stdout",
     "output_type": "stream",
     "text": [
      "10->10->20->20->30->30->30->40\n"
     ]
    }
   ],
   "source": [
    "l = DoublyLL(10)\n",
    "m = DoublyLL(10)\n",
    "n = DoublyLL(20)\n",
    "o = DoublyLL(20)\n",
    "p = DoublyLL(30)\n",
    "q = DoublyLL(30)\n",
    "r = DoublyLL(30)\n",
    "s = DoublyLL(40)\n",
    "\n",
    "l.next = m\n",
    "m.next = n\n",
    "n.next = o\n",
    "o.next = p\n",
    "p.next = q\n",
    "q.next = r\n",
    "r.next = s\n",
    "traverse(l)"
   ]
  },
  {
   "cell_type": "code",
   "execution_count": 21,
   "metadata": {},
   "outputs": [],
   "source": [
    "def remove_duplicate(head):\n",
    "        curr = head\n",
    "        while curr and curr.next:\n",
    "            if curr.val == curr.next.val:\n",
    "                curr.next = curr.next.next\n",
    "                remove_duplicate(head)\n",
    "            curr = curr.next"
   ]
  },
  {
   "cell_type": "code",
   "execution_count": 22,
   "metadata": {},
   "outputs": [],
   "source": [
    "remove_duplicate(l)"
   ]
  },
  {
   "cell_type": "code",
   "execution_count": 23,
   "metadata": {},
   "outputs": [
    {
     "name": "stdout",
     "output_type": "stream",
     "text": [
      "10->20->30->40\n"
     ]
    }
   ],
   "source": [
    "traverse(l)"
   ]
  },
  {
   "cell_type": "code",
   "execution_count": null,
   "metadata": {},
   "outputs": [],
   "source": []
  }
 ],
 "metadata": {
  "kernelspec": {
   "display_name": "base",
   "language": "python",
   "name": "python3"
  },
  "language_info": {
   "codemirror_mode": {
    "name": "ipython",
    "version": 3
   },
   "file_extension": ".py",
   "mimetype": "text/x-python",
   "name": "python",
   "nbconvert_exporter": "python",
   "pygments_lexer": "ipython3",
   "version": "3.9.13"
  }
 },
 "nbformat": 4,
 "nbformat_minor": 2
}
