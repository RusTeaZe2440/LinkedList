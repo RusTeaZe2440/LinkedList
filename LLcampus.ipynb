{
 "cells": [
  {
   "cell_type": "code",
   "execution_count": 1,
   "metadata": {},
   "outputs": [],
   "source": [
    "class Node:\n",
    "\n",
    "    def __init__(self,val) -> None:\n",
    "        self.val = val\n",
    "        self.next = None\n"
   ]
  },
  {
   "cell_type": "code",
   "execution_count": 1,
   "metadata": {},
   "outputs": [],
   "source": [
    "class LinkedList:\n",
    "    def __init__(self) -> None:\n",
    "        self.head = None\n",
    "        self.n = 0\n",
    "\n",
    "    ## prints len of linked list\n",
    "    def __len__(self):\n",
    "        return self.n\n",
    "    \n",
    "    ## inserting value at starting position -> O(1)\n",
    "    def insert_head(self,val):\n",
    "        new_node = Node(val)\n",
    "        new_node.next = self.head\n",
    "        self.head = new_node\n",
    "        self.n = self.n + 1\n",
    "    \n",
    "    ## inserting value at end -> O(n)\n",
    "    def insert_tail(self,val):\n",
    "        new_node = Node(val)\n",
    "        if self.head == None:\n",
    "            self.head = new_node\n",
    "            self.n = self.n +1\n",
    "            return\n",
    "        \n",
    "        curr = self.head\n",
    "        while curr.next:\n",
    "            curr = curr.next\n",
    "\n",
    "        curr.next = new_node\n",
    "        self.n = self.n + 1  \n",
    "\n",
    "    ## def insert value in the middle -> O(n)\n",
    "    def insert_after(self,after,val):\n",
    "        new_node = Node(val)\n",
    "        curr = self.head\n",
    "        while curr:\n",
    "            if curr.val == after:\n",
    "                break\n",
    "            curr = curr.next\n",
    "        if curr:\n",
    "            new_node.next = curr.next\n",
    "            curr.next = new_node\n",
    "            self.n = self.n + 1\n",
    "        else:\n",
    "            return 'item not found'\n",
    "    \n",
    "\n",
    "    ## Clearing Linked List -> O(n)\n",
    "    def clear(self):\n",
    "        self.head = None\n",
    "        self.n = 0\n",
    "\n",
    "\n",
    "    ## deleting head -> O(n)\n",
    "    def delete_head(self):\n",
    "        if self.head == None:\n",
    "            return 'Empty'\n",
    "        self.head = self.head.next\n",
    "        self.n = self.n-1\n",
    "    \n",
    "    ## delete tail -> O(n)\n",
    "    def delete_tail(self):\n",
    "        curr = self.head\n",
    "        if self.head == None:\n",
    "            return 'Empty'\n",
    "\n",
    "        ## if there is single item in Linkedlist \n",
    "        if curr.next == None:\n",
    "            return self.delete_head()\n",
    " \n",
    "        while curr.next.next:\n",
    "            curr = curr.next\n",
    "        \n",
    "        curr.next = None\n",
    "        self.n = self.n- 1\n",
    "\n",
    "    ## delete value from linkedlist -> O(n)\n",
    "\n",
    "    def delete_value(self,value):\n",
    "        if self.head == None:\n",
    "            return 'Empty'\n",
    "        if self.head.val == value:\n",
    "            return self.delete_head()\n",
    "        \n",
    "        curr = self.head\n",
    "        while curr.next:\n",
    "            if curr.next.val == value:\n",
    "                break\n",
    "            curr = curr.next\n",
    "        \n",
    "        if curr.next == None:\n",
    "            return 'item not found'\n",
    "        else:\n",
    "            curr.next = curr.next.next\n",
    "            self.n -= 1\n",
    "\n",
    "    ## searching an item -> O(n)\n",
    "    def search(self,value):\n",
    "        curr = self.head\n",
    "        pos = 0\n",
    "        while curr:\n",
    "            if curr.val == value:\n",
    "                return pos\n",
    "            curr = curr.next\n",
    "            pos = pos + 1\n",
    "        return 'item not found'\n",
    "    ## Exploring all elements -> Traversing  O(n)\n",
    "    def __str__(self):\n",
    "        curr = self.head\n",
    "        elements = []\n",
    "        while curr:\n",
    "            elements.append(str(curr.val))\n",
    "            curr = curr.next\n",
    "        return str('->'.join(elements))\n",
    "    \n",
    "    \n",
    "    \n",
    "    "
   ]
  },
  {
   "cell_type": "code",
   "execution_count": 3,
   "metadata": {},
   "outputs": [],
   "source": [
    "l = LinkedList()"
   ]
  },
  {
   "cell_type": "code",
   "execution_count": 4,
   "metadata": {},
   "outputs": [
    {
     "name": "stdout",
     "output_type": "stream",
     "text": [
      "10->11->12->13->14\n"
     ]
    }
   ],
   "source": [
    "l.insert_tail(10)\n",
    "l.insert_tail(11)\n",
    "l.insert_tail(12)\n",
    "l.insert_tail(13)\n",
    "l.insert_tail(14)\n",
    "print(l)\n"
   ]
  },
  {
   "cell_type": "code",
   "execution_count": 5,
   "metadata": {},
   "outputs": [],
   "source": [
    "l.delete_value(12)"
   ]
  },
  {
   "cell_type": "code",
   "execution_count": 6,
   "metadata": {},
   "outputs": [
    {
     "name": "stdout",
     "output_type": "stream",
     "text": [
      "10->11->13->14\n"
     ]
    }
   ],
   "source": [
    "print(l)"
   ]
  },
  {
   "cell_type": "code",
   "execution_count": 7,
   "metadata": {},
   "outputs": [],
   "source": [
    "l.delete_value(10)"
   ]
  },
  {
   "cell_type": "code",
   "execution_count": 8,
   "metadata": {},
   "outputs": [
    {
     "name": "stdout",
     "output_type": "stream",
     "text": [
      "11->13->14\n"
     ]
    }
   ],
   "source": [
    "print(l)"
   ]
  },
  {
   "cell_type": "code",
   "execution_count": 9,
   "metadata": {},
   "outputs": [
    {
     "data": {
      "text/plain": [
       "2"
      ]
     },
     "execution_count": 9,
     "metadata": {},
     "output_type": "execute_result"
    }
   ],
   "source": [
    "l.search(14)"
   ]
  },
  {
   "cell_type": "code",
   "execution_count": 10,
   "metadata": {},
   "outputs": [],
   "source": [
    "l.delete_value(13)"
   ]
  },
  {
   "cell_type": "code",
   "execution_count": 11,
   "metadata": {},
   "outputs": [
    {
     "name": "stdout",
     "output_type": "stream",
     "text": [
      "11->14\n"
     ]
    }
   ],
   "source": [
    "print(l)"
   ]
  },
  {
   "cell_type": "code",
   "execution_count": null,
   "metadata": {},
   "outputs": [],
   "source": []
  }
 ],
 "metadata": {
  "kernelspec": {
   "display_name": "base",
   "language": "python",
   "name": "python3"
  },
  "language_info": {
   "codemirror_mode": {
    "name": "ipython",
    "version": 3
   },
   "file_extension": ".py",
   "mimetype": "text/x-python",
   "name": "python",
   "nbconvert_exporter": "python",
   "pygments_lexer": "ipython3",
   "version": "3.9.13"
  }
 },
 "nbformat": 4,
 "nbformat_minor": 2
}
