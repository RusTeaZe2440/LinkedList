{
 "cells": [
  {
   "cell_type": "code",
   "execution_count": 2,
   "metadata": {},
   "outputs": [],
   "source": [
    "class linkedList():\n",
    "\n",
    "    def __init__(self,val,next=None,prev=None) -> None:\n",
    "        self.val = val\n",
    "        self.next = next\n",
    "        self.prev = prev\n",
    "\n",
    "    def __str__(self) -> str:\n",
    "        return str(self.val)\n",
    "    \n",
    "head = tail = linkedList(5)"
   ]
  },
  {
   "cell_type": "code",
   "execution_count": 3,
   "metadata": {},
   "outputs": [
    {
     "name": "stdout",
     "output_type": "stream",
     "text": [
      "5\n"
     ]
    }
   ],
   "source": [
    "def display(head):\n",
    "    curr = head\n",
    "    elements = []\n",
    "    while curr:\n",
    "        elements.append(str(curr.val))\n",
    "        curr = curr.next\n",
    "\n",
    "    print('->'.join(elements))\n",
    "\n",
    "display(head)"
   ]
  },
  {
   "cell_type": "code",
   "execution_count": 4,
   "metadata": {},
   "outputs": [
    {
     "name": "stdout",
     "output_type": "stream",
     "text": [
      "4->5\n"
     ]
    }
   ],
   "source": [
    "def insert_at_beg(head,tail,val):\n",
    "    new_node = linkedList(val,next=head)\n",
    "    head.prev = new_node\n",
    "    return new_node,tail\n",
    "\n",
    "head,tail = insert_at_beg(head,tail,4)\n",
    "display(head)"
   ]
  },
  {
   "cell_type": "code",
   "execution_count": 5,
   "metadata": {},
   "outputs": [
    {
     "name": "stdout",
     "output_type": "stream",
     "text": [
      "4->5->5\n"
     ]
    }
   ],
   "source": [
    "def insert_at_end(head,tail,val):\n",
    "    new_node = linkedList(val,prev=tail)\n",
    "    tail.next = new_node\n",
    "    return head,new_node\n",
    "\n",
    "head,tail = insert_at_end(head,tail,5)\n",
    "display(head)"
   ]
  },
  {
   "cell_type": "code",
   "execution_count": null,
   "metadata": {},
   "outputs": [],
   "source": []
  }
 ],
 "metadata": {
  "kernelspec": {
   "display_name": "base",
   "language": "python",
   "name": "python3"
  },
  "language_info": {
   "codemirror_mode": {
    "name": "ipython",
    "version": 3
   },
   "file_extension": ".py",
   "mimetype": "text/x-python",
   "name": "python",
   "nbconvert_exporter": "python",
   "pygments_lexer": "ipython3",
   "version": "3.9.13"
  }
 },
 "nbformat": 4,
 "nbformat_minor": 2
}
